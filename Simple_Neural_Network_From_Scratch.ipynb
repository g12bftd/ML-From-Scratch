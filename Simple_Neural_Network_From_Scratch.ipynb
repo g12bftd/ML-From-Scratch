{
  "nbformat": 4,
  "nbformat_minor": 0,
  "metadata": {
    "colab": {
      "provenance": [],
      "collapsed_sections": []
    },
    "kernelspec": {
      "name": "python3",
      "display_name": "Python 3"
    },
    "language_info": {
      "name": "python"
    }
  },
  "cells": [
    {
      "cell_type": "code",
      "source": [
        "import numpy as np\n",
        "import pandas as pd\n",
        "from matplotlib import pyplot as plt\n",
        "\n",
        "from google.colab import drive\n",
        "drive.mount(\"/content/gdrive\")\n"
      ],
      "metadata": {
        "colab": {
          "base_uri": "https://localhost:8080/"
        },
        "id": "DMCQB9MqSgqb",
        "outputId": "7d32f329-606b-4dc6-ddca-8f465226fe2e"
      },
      "execution_count": 31,
      "outputs": [
        {
          "output_type": "stream",
          "name": "stdout",
          "text": [
            "Drive already mounted at /content/gdrive; to attempt to forcibly remount, call drive.mount(\"/content/gdrive\", force_remount=True).\n"
          ]
        }
      ]
    },
    {
      "cell_type": "markdown",
      "source": [],
      "metadata": {
        "id": "0hCr57lrSTxY"
      }
    },
    {
      "cell_type": "code",
      "source": [
        "train_data = pd.read_csv('/content/mnist_train.csv')\n",
        "test_data = pd.read_csv('/content/mnist_test.csv')\n",
        "\n",
        "train_data = np.array(train_data)\n",
        "test_data = np.array(test_data)"
      ],
      "metadata": {
        "id": "GBAinlkeSPr-"
      },
      "execution_count": 32,
      "outputs": []
    },
    {
      "cell_type": "code",
      "source": [
        "X_train = train_data[:, 1:].T\n",
        "Y_train = train_data[:, 0].T\n",
        "X_train = X_train / 255.\n",
        "\n",
        "\n",
        "X_test = test_data[:, 1:].T\n",
        "Y_test = test_data[:, 0].T\n",
        "X_test = X_test / 255."
      ],
      "metadata": {
        "id": "FUc_E5PrSXVy"
      },
      "execution_count": 33,
      "outputs": []
    },
    {
      "cell_type": "code",
      "source": [
        "m_train, n_train = train_data.shape\n",
        "m_test, n_test = test_data.shape\n",
        "m = m_train + m_test\n",
        "n = n_train + n_test"
      ],
      "metadata": {
        "id": "-t3r2MvtVpjB"
      },
      "execution_count": 34,
      "outputs": []
    },
    {
      "cell_type": "code",
      "source": [
        "Y_train = Y_train.astype('int')\n",
        "Y_test = Y_test.astype(\"int\")"
      ],
      "metadata": {
        "id": "8PPJ6VY-2IyZ"
      },
      "execution_count": 35,
      "outputs": []
    },
    {
      "cell_type": "code",
      "source": [
        "def init_params():\n",
        "    W1 = np.random.rand(10, 784) - 0.5\n",
        "    b1 = np.random.rand(10, 1) - 0.5\n",
        "    W2 = np.random.rand(10, 10) - 0.5\n",
        "    b2 = np.random.rand(10, 1) - 0.5\n",
        "    return W1, b1, W2, b2\n",
        "\n",
        "def ReLU(Z):\n",
        "    return np.maximum(Z, 0)\n",
        "\n",
        "def softmax(Z):\n",
        "    A = np.exp(Z) / sum(np.exp(Z))\n",
        "    return A\n",
        "    \n",
        "def forward_prop(W1, b1, W2, b2, X):\n",
        "    Z1 = W1.dot(X) + b1\n",
        "    A1 = ReLU(Z1)\n",
        "    Z2 = W2.dot(A1) + b2\n",
        "    A2 = softmax(Z2)\n",
        "    return Z1, A1, Z2, A2\n",
        "\n",
        "def ReLU_deriv(Z):\n",
        "    return Z > 0\n",
        "\n",
        "def one_hot(Y):\n",
        "    one_hot_Y = np.zeros((Y.size, int(Y.max()) + 1))\n",
        "    one_hot_Y[np.arange(Y.size), Y] = 1\n",
        "    one_hot_Y = one_hot_Y.T\n",
        "    return one_hot_Y\n",
        "\n",
        "def backward_prop(Z1, A1, Z2, A2, W1, W2, X, Y):\n",
        "    one_hot_Y = one_hot(Y)\n",
        "    dZ2 = A2 - one_hot_Y\n",
        "    dW2 = 1 / m * dZ2.dot(A1.T)\n",
        "    db2 = 1 / m * np.sum(dZ2)\n",
        "    dZ1 = W2.T.dot(dZ2) * ReLU_deriv(Z1)\n",
        "    dW1 = 1 / m * dZ1.dot(X.T)\n",
        "    db1 = 1 / m * np.sum(dZ1)\n",
        "    return dW1, db1, dW2, db2\n",
        "\n",
        "def update_params(W1, b1, W2, b2, dW1, db1, dW2, db2, alpha):\n",
        "    W1 = W1 - alpha * dW1\n",
        "    b1 = b1 - alpha * db1    \n",
        "    W2 = W2 - alpha * dW2  \n",
        "    b2 = b2 - alpha * db2    \n",
        "    return W1, b1, W2, b2"
      ],
      "metadata": {
        "id": "U0oFQ-WwVMZZ"
      },
      "execution_count": 36,
      "outputs": []
    },
    {
      "cell_type": "code",
      "source": [
        "def get_predictions(A2):\n",
        "    return np.argmax(A2, 0)\n",
        "\n",
        "def get_accuracy(predictions, Y):\n",
        "    print(predictions, Y)\n",
        "    return np.sum(predictions == Y) / Y.size\n",
        "\n",
        "def gradient_descent(X, Y, alpha, iterations):\n",
        "    W1, b1, W2, b2 = init_params()\n",
        "    for i in range(iterations):\n",
        "        Z1, A1, Z2, A2 = forward_prop(W1, b1, W2, b2, X)\n",
        "        dW1, db1, dW2, db2 = backward_prop(Z1, A1, Z2, A2, W1, W2, X, Y)\n",
        "        W1, b1, W2, b2 = update_params(W1, b1, W2, b2, dW1, db1, dW2, db2, alpha)\n",
        "        if i % 10 == 0:\n",
        "            print(\"Iteration: \", i)\n",
        "            predictions = get_predictions(A2)\n",
        "            print(get_accuracy(predictions, Y))\n",
        "    return W1, b1, W2, b2"
      ],
      "metadata": {
        "id": "r3wd4I8vWA2s"
      },
      "execution_count": 37,
      "outputs": []
    },
    {
      "cell_type": "code",
      "source": [
        "W1, b1, W2, b2 = gradient_descent(X_train, Y_train, 0.10, 500)"
      ],
      "metadata": {
        "colab": {
          "base_uri": "https://localhost:8080/"
        },
        "id": "GiM6htP0WD1k",
        "outputId": "edcece5e-15ad-4148-a600-05d5719b1bb4"
      },
      "execution_count": 38,
      "outputs": [
        {
          "output_type": "stream",
          "name": "stdout",
          "text": [
            "Iteration:  0\n",
            "[7 7 7 ... 7 6 1] [5 0 4 ... 5 6 8]\n",
            "0.1078\n",
            "Iteration:  10\n",
            "[0 0 0 ... 0 7 1] [5 0 4 ... 5 6 8]\n",
            "0.18906666666666666\n",
            "Iteration:  20\n",
            "[0 0 0 ... 0 6 1] [5 0 4 ... 5 6 8]\n",
            "0.31708333333333333\n",
            "Iteration:  30\n",
            "[0 0 0 ... 0 6 1] [5 0 4 ... 5 6 8]\n",
            "0.38643333333333335\n",
            "Iteration:  40\n",
            "[0 0 0 ... 0 6 1] [5 0 4 ... 5 6 8]\n",
            "0.42685\n",
            "Iteration:  50\n",
            "[0 0 0 ... 0 6 1] [5 0 4 ... 5 6 8]\n",
            "0.46565\n",
            "Iteration:  60\n",
            "[0 0 7 ... 0 6 1] [5 0 4 ... 5 6 8]\n",
            "0.50745\n",
            "Iteration:  70\n",
            "[0 0 7 ... 0 6 1] [5 0 4 ... 5 6 8]\n",
            "0.54225\n",
            "Iteration:  80\n",
            "[0 0 7 ... 0 6 1] [5 0 4 ... 5 6 8]\n",
            "0.5708666666666666\n",
            "Iteration:  90\n",
            "[0 0 7 ... 0 6 1] [5 0 4 ... 5 6 8]\n",
            "0.59595\n",
            "Iteration:  100\n",
            "[0 0 7 ... 0 6 1] [5 0 4 ... 5 6 8]\n",
            "0.61815\n",
            "Iteration:  110\n",
            "[0 0 7 ... 0 6 8] [5 0 4 ... 5 6 8]\n",
            "0.6379166666666667\n",
            "Iteration:  120\n",
            "[3 0 7 ... 0 6 8] [5 0 4 ... 5 6 8]\n",
            "0.6569666666666667\n",
            "Iteration:  130\n",
            "[3 0 9 ... 0 6 8] [5 0 4 ... 5 6 8]\n",
            "0.6728666666666666\n",
            "Iteration:  140\n",
            "[3 0 9 ... 5 6 8] [5 0 4 ... 5 6 8]\n",
            "0.6871166666666667\n",
            "Iteration:  150\n",
            "[3 0 9 ... 5 6 8] [5 0 4 ... 5 6 8]\n",
            "0.7006333333333333\n",
            "Iteration:  160\n",
            "[3 0 9 ... 5 6 8] [5 0 4 ... 5 6 8]\n",
            "0.7130333333333333\n",
            "Iteration:  170\n",
            "[3 0 9 ... 5 6 8] [5 0 4 ... 5 6 8]\n",
            "0.7237666666666667\n",
            "Iteration:  180\n",
            "[3 0 9 ... 5 6 8] [5 0 4 ... 5 6 8]\n",
            "0.7334166666666667\n",
            "Iteration:  190\n",
            "[3 0 9 ... 5 6 8] [5 0 4 ... 5 6 8]\n",
            "0.74185\n",
            "Iteration:  200\n",
            "[3 0 9 ... 5 6 8] [5 0 4 ... 5 6 8]\n",
            "0.75005\n",
            "Iteration:  210\n",
            "[3 0 9 ... 5 6 8] [5 0 4 ... 5 6 8]\n",
            "0.7569\n",
            "Iteration:  220\n",
            "[3 0 9 ... 5 6 8] [5 0 4 ... 5 6 8]\n",
            "0.7631833333333333\n",
            "Iteration:  230\n",
            "[3 0 4 ... 5 6 8] [5 0 4 ... 5 6 8]\n",
            "0.7688833333333334\n",
            "Iteration:  240\n",
            "[3 0 4 ... 5 6 8] [5 0 4 ... 5 6 8]\n",
            "0.77425\n",
            "Iteration:  250\n",
            "[3 0 4 ... 5 6 8] [5 0 4 ... 5 6 8]\n",
            "0.7792166666666667\n",
            "Iteration:  260\n",
            "[3 0 4 ... 5 6 8] [5 0 4 ... 5 6 8]\n",
            "0.78335\n",
            "Iteration:  270\n",
            "[3 0 4 ... 5 6 8] [5 0 4 ... 5 6 8]\n",
            "0.7878833333333334\n",
            "Iteration:  280\n",
            "[3 0 4 ... 5 6 8] [5 0 4 ... 5 6 8]\n",
            "0.79215\n",
            "Iteration:  290\n",
            "[3 0 4 ... 5 6 8] [5 0 4 ... 5 6 8]\n",
            "0.7957166666666666\n",
            "Iteration:  300\n",
            "[3 0 4 ... 5 6 8] [5 0 4 ... 5 6 8]\n",
            "0.7992333333333334\n",
            "Iteration:  310\n",
            "[3 0 4 ... 5 6 8] [5 0 4 ... 5 6 8]\n",
            "0.8023833333333333\n",
            "Iteration:  320\n",
            "[3 0 4 ... 5 6 8] [5 0 4 ... 5 6 8]\n",
            "0.8055666666666667\n",
            "Iteration:  330\n",
            "[3 0 4 ... 5 6 8] [5 0 4 ... 5 6 8]\n",
            "0.8081166666666667\n",
            "Iteration:  340\n",
            "[3 0 4 ... 5 6 8] [5 0 4 ... 5 6 8]\n",
            "0.8109166666666666\n",
            "Iteration:  350\n",
            "[3 0 4 ... 5 6 8] [5 0 4 ... 5 6 8]\n",
            "0.8133166666666667\n",
            "Iteration:  360\n",
            "[3 0 4 ... 5 6 8] [5 0 4 ... 5 6 8]\n",
            "0.81595\n",
            "Iteration:  370\n",
            "[3 0 4 ... 5 6 8] [5 0 4 ... 5 6 8]\n",
            "0.8182166666666667\n",
            "Iteration:  380\n",
            "[3 0 4 ... 5 6 8] [5 0 4 ... 5 6 8]\n",
            "0.8201166666666667\n",
            "Iteration:  390\n",
            "[3 0 4 ... 5 6 8] [5 0 4 ... 5 6 8]\n",
            "0.8221\n",
            "Iteration:  400\n",
            "[3 0 4 ... 5 6 8] [5 0 4 ... 5 6 8]\n",
            "0.8240166666666666\n",
            "Iteration:  410\n",
            "[3 0 4 ... 5 6 8] [5 0 4 ... 5 6 8]\n",
            "0.82605\n",
            "Iteration:  420\n",
            "[3 0 4 ... 5 6 8] [5 0 4 ... 5 6 8]\n",
            "0.82795\n",
            "Iteration:  430\n",
            "[3 0 4 ... 5 6 8] [5 0 4 ... 5 6 8]\n",
            "0.82945\n",
            "Iteration:  440\n",
            "[3 0 4 ... 5 6 8] [5 0 4 ... 5 6 8]\n",
            "0.831\n",
            "Iteration:  450\n",
            "[3 0 4 ... 5 6 8] [5 0 4 ... 5 6 8]\n",
            "0.8327666666666667\n",
            "Iteration:  460\n",
            "[3 0 4 ... 5 6 8] [5 0 4 ... 5 6 8]\n",
            "0.8342833333333334\n",
            "Iteration:  470\n",
            "[3 0 4 ... 5 6 8] [5 0 4 ... 5 6 8]\n",
            "0.8361\n",
            "Iteration:  480\n",
            "[3 0 4 ... 5 6 8] [5 0 4 ... 5 6 8]\n",
            "0.8373\n",
            "Iteration:  490\n",
            "[3 0 4 ... 5 6 8] [5 0 4 ... 5 6 8]\n",
            "0.8385833333333333\n"
          ]
        }
      ]
    },
    {
      "cell_type": "code",
      "source": [
        "def make_predictions(X, W1, b1, W2, b2):\n",
        "    _, _, _, A2 = forward_prop(W1, b1, W2, b2, X)\n",
        "    predictions = get_predictions(A2)\n",
        "    return predictions\n",
        "\n",
        "def test_prediction(index, W1, b1, W2, b2):\n",
        "    current_image = X_train[:, index, None]\n",
        "    prediction = make_predictions(X_train[:, index, None], W1, b1, W2, b2)\n",
        "    label = Y_train[index]\n",
        "    print(\"Prediction: \", prediction)\n",
        "    print(\"Label: \", label)\n",
        "    \n",
        "    current_image = current_image.reshape((28, 28)) * 255\n",
        "    plt.gray()\n",
        "    plt.imshow(current_image, interpolation='nearest')\n",
        "    plt.show()"
      ],
      "metadata": {
        "id": "YOpZd5IsWHfM"
      },
      "execution_count": 39,
      "outputs": []
    },
    {
      "cell_type": "code",
      "source": [
        "test_prediction(0, W1, b1, W2, b2)\n",
        "test_prediction(1, W1, b1, W2, b2)\n",
        "test_prediction(2, W1, b1, W2, b2)\n",
        "test_prediction(3, W1, b1, W2, b2)"
      ],
      "metadata": {
        "id": "BRoBllCfWKAH",
        "colab": {
          "base_uri": "https://localhost:8080/",
          "height": 1000
        },
        "outputId": "a58fde36-eaeb-4eda-a4f9-85c09453a3a4"
      },
      "execution_count": 40,
      "outputs": [
        {
          "output_type": "stream",
          "name": "stdout",
          "text": [
            "Prediction:  [3]\n",
            "Label:  5\n"
          ]
        },
        {
          "output_type": "display_data",
          "data": {
            "text/plain": [
              "<Figure size 432x288 with 1 Axes>"
            ],
            "image/png": "[encoded data removed]"
          },
          "metadata": {
            "needs_background": "light"
          }
        },
        {
          "output_type": "stream",
          "name": "stdout",
          "text": [
            "Prediction:  [0]\n",
            "Label:  0\n"
          ]
        },
        {
          "output_type": "display_data",
          "data": {
            "text/plain": [
              "<Figure size 432x288 with 1 Axes>"
            ],
            "image/png": "[encoded data removed]"
          },
          "metadata": {
            "needs_background": "light"
          }
        },
        {
          "output_type": "stream",
          "name": "stdout",
          "text": [
            "Prediction:  [4]\n",
            "Label:  4\n"
          ]
        },
        {
          "output_type": "display_data",
          "data": {
            "text/plain": [
              "<Figure size 432x288 with 1 Axes>"
            ],
            "image/png": "[encoded data removed]"
          },
          "metadata": {
            "needs_background": "light"
          }
        },
        {
          "output_type": "stream",
          "name": "stdout",
          "text": [
            "Prediction:  [1]\n",
            "Label:  1\n"
          ]
        },
        {
          "output_type": "display_data",
          "data": {
            "text/plain": [
              "<Figure size 432x288 with 1 Axes>"
            ],
            "image/png": "[encoded data removed]"
          },
          "metadata": {
            "needs_background": "light"
          }
        }
      ]
    },
    {
      "cell_type": "code",
      "source": [
        "predictions = make_predictions(X_test, W1, b1, W2, b2)\n",
        "get_accuracy(predictions, Y_test)"
      ],
      "metadata": {
        "colab": {
          "base_uri": "https://localhost:8080/"
        },
        "id": "12l7M0Cs3w2h",
        "outputId": "0750e643-bd89-4e15-e80c-bf4755de1dd7"
      },
      "execution_count": 41,
      "outputs": [
        {
          "output_type": "stream",
          "name": "stdout",
          "text": [
            "[7 3 1 ... 4 5 6] [7 2 1 ... 4 5 6]\n"
          ]
        },
        {
          "output_type": "execute_result",
          "data": {
            "text/plain": [
              "0.8383"
            ]
          },
          "metadata": {},
          "execution_count": 41
        }
      ]
    }
  ]
}